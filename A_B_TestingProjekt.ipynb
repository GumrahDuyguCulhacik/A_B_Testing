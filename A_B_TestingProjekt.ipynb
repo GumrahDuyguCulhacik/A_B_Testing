{
 "cells": [
  {
   "cell_type": "markdown",
   "id": "fbfcf7c2-5d8a-44f7-9e2a-b7a275ce593d",
   "metadata": {},
   "source": [
    "\n",
    "Digitale Werbeplattformen versuchen, die Konversionsraten zu optimieren, indem sie den Werbetreibenden verschiedene Gebotsstrategien anbieten.\n",
    "Einer unserer Kunden, \"veridunya.com\", hat die Durchführung eines A/B-Tests angefordert, um festzustellen, ob die neue Methode 'Average Bidding' im Vergleich zur Methode 'Maximum Bidding' eine höhere Konversionsrate erzielt.\n",
    "Der wichtigste Erfolgsindikator für das Unternehmen ist die Kennzahl 'Käufe' (Purchase). Die Analysen sollten dementsprechend durchgeführt werden.\n",
    "In der Studie gibt es zwei verschiedene Gruppen:\n",
    "Kontrollgruppe: Die Methode 'Maximum Bidding' wurde angewendet. \n",
    "Testgruppe: Die Methode 'Average Bidding' wurde angewendet.\n",
    "\n",
    "Die Variablen im Datensatz:\n",
    "Impression: Anzahl der Anzeigenschaltungen\n",
    "Click: Anzahl der Klicks auf die Anzeige\n",
    "Purchase: Anzahl der gekauften Produkte nach einem Klick auf die Anzeige\n",
    "Earning: Einnahmen aus den getätigten Käufen"
   ]
  },
  {
   "cell_type": "code",
   "execution_count": 1,
   "id": "21f9552e-a343-4e37-80c2-e2fab67483e8",
   "metadata": {},
   "outputs": [],
   "source": [
    "import itertools\n",
    "import numpy as np\n",
    "import pandas as pd\n",
    "import matplotlib.pyplot as plt\n",
    "import seaborn as sns\n",
    "# !pip install statsmodels\n",
    "import statsmodels.stats.api as sms\n",
    "from scipy.stats import ttest_1samp, shapiro, levene, ttest_ind, mannwhitneyu, \\\n",
    "    pearsonr, spearmanr, kendalltau, f_oneway, kruskal\n",
    "from statsmodels.stats.proportion import proportions_ztest\n",
    "\n",
    "pd.set_option('display.max_columns', None)\n",
    "pd.set_option('display.max_rows', 10)\n",
    "pd.set_option('display.float_format', lambda x: '%.5f' % x)\n"
   ]
  },
  {
   "cell_type": "code",
   "execution_count": 2,
   "id": "dc0ac927-f546-4f0e-b2fc-4cf71007c93a",
   "metadata": {},
   "outputs": [],
   "source": [
    "file_pfad= r\"C:\\Users\\User Laptop\\Desktop\\phyton\\phyton_ders\\ha\\odev6\\ab_test_data.xlsx\""
   ]
  },
  {
   "cell_type": "code",
   "execution_count": null,
   "id": "0d6b08c0-1214-46ab-97c0-df71f7caca0c",
   "metadata": {},
   "outputs": [],
   "source": [
    "#1_Vorbereitung und Überprüfung der Daten"
   ]
  },
  {
   "cell_type": "code",
   "execution_count": null,
   "id": "fc718f2a-8804-425f-8538-191dc97fc646",
   "metadata": {},
   "outputs": [],
   "source": [
    "#1.1."
   ]
  },
  {
   "cell_type": "code",
   "execution_count": 3,
   "id": "8a3d4156-ae60-4121-9ff4-122ad6435af4",
   "metadata": {},
   "outputs": [],
   "source": [
    "# Das gemeinsame Lesen aller Tabellenblätter\n",
    "ab_test = pd.read_excel(file_pfad, sheet_name=[\"Test Group\", \"Control Group\"], engine=\"openpyxl\")\n"
   ]
  },
  {
   "cell_type": "code",
   "execution_count": 4,
   "id": "984194a0-75be-4e94-ab53-05dc017de5cd",
   "metadata": {},
   "outputs": [
    {
     "name": "stdout",
     "output_type": "stream",
     "text": [
      "    Impression      Click  Purchase    Earning\n",
      "0 120103.50380 3216.54796 702.16035 1939.61124\n",
      "1 134775.94336 3635.08242 834.05429 2929.40582\n",
      "2 107806.62079 3057.14356 422.93426 2526.24488\n",
      "3 116445.27553 4650.47391 429.03353 2281.42857\n",
      "4 145082.51684 5201.38772 749.86044 2781.69752\n"
     ]
    }
   ],
   "source": [
    "# Zugriff auf das Tabellenblatt 'Test Group' in der Excel-Datei\n",
    "df_t = ab_test[\"Test Group\"]\n",
    "print(df_t.head())"
   ]
  },
  {
   "cell_type": "code",
   "execution_count": 5,
   "id": "6ca49cc7-1e52-4f3b-b111-e3c907ce3bf6",
   "metadata": {},
   "outputs": [
    {
     "name": "stdout",
     "output_type": "stream",
     "text": [
      "    Impression      Click  Purchase    Earning\n",
      "0  82529.45927 6090.07732 665.21125 2311.27714\n",
      "1  98050.45193 3382.86179 315.08489 1742.80686\n",
      "2  82696.02355 4167.96575 458.08374 1797.82745\n",
      "3 109914.40040 4910.88224 487.09077 1696.22918\n",
      "4 108457.76263 5987.65581 441.03405 1543.72018\n"
     ]
    }
   ],
   "source": [
    "# Zugriff auf das Tabellenblatt 'Control Group' in der Excel-Datei\n",
    "df_c = ab_test[\"Control Group\"]\n",
    "print(df_c.head())"
   ]
  },
  {
   "cell_type": "code",
   "execution_count": null,
   "id": "b4c366bc-2457-4048-acc3-773b9311bbcf",
   "metadata": {},
   "outputs": [],
   "source": [
    "#1.2."
   ]
  },
  {
   "cell_type": "code",
   "execution_count": 6,
   "id": "7487a2d2-6a55-4723-89b2-46141b640b21",
   "metadata": {},
   "outputs": [
    {
     "data": {
      "text/html": [
       "<div>\n",
       "<style scoped>\n",
       "    .dataframe tbody tr th:only-of-type {\n",
       "        vertical-align: middle;\n",
       "    }\n",
       "\n",
       "    .dataframe tbody tr th {\n",
       "        vertical-align: top;\n",
       "    }\n",
       "\n",
       "    .dataframe thead th {\n",
       "        text-align: right;\n",
       "    }\n",
       "</style>\n",
       "<table border=\"1\" class=\"dataframe\">\n",
       "  <thead>\n",
       "    <tr style=\"text-align: right;\">\n",
       "      <th></th>\n",
       "      <th>Impression</th>\n",
       "      <th>Click</th>\n",
       "      <th>Purchase</th>\n",
       "      <th>Earning</th>\n",
       "    </tr>\n",
       "  </thead>\n",
       "  <tbody>\n",
       "    <tr>\n",
       "      <th>count</th>\n",
       "      <td>40.00000</td>\n",
       "      <td>40.00000</td>\n",
       "      <td>40.00000</td>\n",
       "      <td>40.00000</td>\n",
       "    </tr>\n",
       "    <tr>\n",
       "      <th>mean</th>\n",
       "      <td>120512.41176</td>\n",
       "      <td>3967.54976</td>\n",
       "      <td>582.10610</td>\n",
       "      <td>2514.89073</td>\n",
       "    </tr>\n",
       "    <tr>\n",
       "      <th>std</th>\n",
       "      <td>18807.44871</td>\n",
       "      <td>923.09507</td>\n",
       "      <td>161.15251</td>\n",
       "      <td>282.73085</td>\n",
       "    </tr>\n",
       "    <tr>\n",
       "      <th>min</th>\n",
       "      <td>79033.83492</td>\n",
       "      <td>1836.62986</td>\n",
       "      <td>311.62952</td>\n",
       "      <td>1939.61124</td>\n",
       "    </tr>\n",
       "    <tr>\n",
       "      <th>25%</th>\n",
       "      <td>112691.97077</td>\n",
       "      <td>3376.81902</td>\n",
       "      <td>444.62683</td>\n",
       "      <td>2280.53743</td>\n",
       "    </tr>\n",
       "    <tr>\n",
       "      <th>50%</th>\n",
       "      <td>119291.30077</td>\n",
       "      <td>3931.35980</td>\n",
       "      <td>551.35573</td>\n",
       "      <td>2544.66611</td>\n",
       "    </tr>\n",
       "    <tr>\n",
       "      <th>75%</th>\n",
       "      <td>132050.57893</td>\n",
       "      <td>4660.49791</td>\n",
       "      <td>699.86236</td>\n",
       "      <td>2761.54540</td>\n",
       "    </tr>\n",
       "    <tr>\n",
       "      <th>max</th>\n",
       "      <td>158605.92048</td>\n",
       "      <td>6019.69508</td>\n",
       "      <td>889.91046</td>\n",
       "      <td>3171.48971</td>\n",
       "    </tr>\n",
       "  </tbody>\n",
       "</table>\n",
       "</div>"
      ],
      "text/plain": [
       "        Impression      Click  Purchase    Earning\n",
       "count     40.00000   40.00000  40.00000   40.00000\n",
       "mean  120512.41176 3967.54976 582.10610 2514.89073\n",
       "std    18807.44871  923.09507 161.15251  282.73085\n",
       "min    79033.83492 1836.62986 311.62952 1939.61124\n",
       "25%   112691.97077 3376.81902 444.62683 2280.53743\n",
       "50%   119291.30077 3931.35980 551.35573 2544.66611\n",
       "75%   132050.57893 4660.49791 699.86236 2761.54540\n",
       "max   158605.92048 6019.69508 889.91046 3171.48971"
      ]
     },
     "execution_count": 6,
     "metadata": {},
     "output_type": "execute_result"
    }
   ],
   "source": [
    "df_t.describe()"
   ]
  },
  {
   "cell_type": "code",
   "execution_count": 7,
   "id": "e09151fb-2568-4ffe-9ffa-affbd7a3b7fb",
   "metadata": {},
   "outputs": [
    {
     "data": {
      "text/plain": [
       "(array([114497.49785266,   3672.32963411,    530.56702249,   2424.4690194 ]),\n",
       " array([126527.32566241,   4262.7698875 ,    633.64517081,   2605.3124459 ]))"
      ]
     },
     "execution_count": 7,
     "metadata": {},
     "output_type": "execute_result"
    }
   ],
   "source": [
    "sms.DescrStatsW(df_t).tconfint_mean()"
   ]
  },
  {
   "cell_type": "code",
   "execution_count": 8,
   "id": "6d1a3756-070a-465f-9c80-e25d5a25ef34",
   "metadata": {},
   "outputs": [
    {
     "data": {
      "text/html": [
       "<div>\n",
       "<style scoped>\n",
       "    .dataframe tbody tr th:only-of-type {\n",
       "        vertical-align: middle;\n",
       "    }\n",
       "\n",
       "    .dataframe tbody tr th {\n",
       "        vertical-align: top;\n",
       "    }\n",
       "\n",
       "    .dataframe thead th {\n",
       "        text-align: right;\n",
       "    }\n",
       "</style>\n",
       "<table border=\"1\" class=\"dataframe\">\n",
       "  <thead>\n",
       "    <tr style=\"text-align: right;\">\n",
       "      <th></th>\n",
       "      <th>Impression</th>\n",
       "      <th>Click</th>\n",
       "      <th>Purchase</th>\n",
       "      <th>Earning</th>\n",
       "    </tr>\n",
       "  </thead>\n",
       "  <tbody>\n",
       "    <tr>\n",
       "      <th>count</th>\n",
       "      <td>40.00000</td>\n",
       "      <td>40.00000</td>\n",
       "      <td>40.00000</td>\n",
       "      <td>40.00000</td>\n",
       "    </tr>\n",
       "    <tr>\n",
       "      <th>mean</th>\n",
       "      <td>101711.44907</td>\n",
       "      <td>5100.65737</td>\n",
       "      <td>550.89406</td>\n",
       "      <td>1908.56830</td>\n",
       "    </tr>\n",
       "    <tr>\n",
       "      <th>std</th>\n",
       "      <td>20302.15786</td>\n",
       "      <td>1329.98550</td>\n",
       "      <td>134.10820</td>\n",
       "      <td>302.91778</td>\n",
       "    </tr>\n",
       "    <tr>\n",
       "      <th>min</th>\n",
       "      <td>45475.94296</td>\n",
       "      <td>2189.75316</td>\n",
       "      <td>267.02894</td>\n",
       "      <td>1253.98952</td>\n",
       "    </tr>\n",
       "    <tr>\n",
       "      <th>25%</th>\n",
       "      <td>85726.69035</td>\n",
       "      <td>4124.30413</td>\n",
       "      <td>470.09553</td>\n",
       "      <td>1685.84720</td>\n",
       "    </tr>\n",
       "    <tr>\n",
       "      <th>50%</th>\n",
       "      <td>99790.70108</td>\n",
       "      <td>5001.22060</td>\n",
       "      <td>531.20631</td>\n",
       "      <td>1975.16052</td>\n",
       "    </tr>\n",
       "    <tr>\n",
       "      <th>75%</th>\n",
       "      <td>115212.81654</td>\n",
       "      <td>5923.80360</td>\n",
       "      <td>637.95709</td>\n",
       "      <td>2119.80278</td>\n",
       "    </tr>\n",
       "    <tr>\n",
       "      <th>max</th>\n",
       "      <td>147539.33633</td>\n",
       "      <td>7959.12507</td>\n",
       "      <td>801.79502</td>\n",
       "      <td>2497.29522</td>\n",
       "    </tr>\n",
       "  </tbody>\n",
       "</table>\n",
       "</div>"
      ],
      "text/plain": [
       "        Impression      Click  Purchase    Earning\n",
       "count     40.00000   40.00000  40.00000   40.00000\n",
       "mean  101711.44907 5100.65737 550.89406 1908.56830\n",
       "std    20302.15786 1329.98550 134.10820  302.91778\n",
       "min    45475.94296 2189.75316 267.02894 1253.98952\n",
       "25%    85726.69035 4124.30413 470.09553 1685.84720\n",
       "50%    99790.70108 5001.22060 531.20631 1975.16052\n",
       "75%   115212.81654 5923.80360 637.95709 2119.80278\n",
       "max   147539.33633 7959.12507 801.79502 2497.29522"
      ]
     },
     "execution_count": 8,
     "metadata": {},
     "output_type": "execute_result"
    }
   ],
   "source": [
    "df_c.describe()"
   ]
  },
  {
   "cell_type": "code",
   "execution_count": 9,
   "id": "b5b8d267-03a5-4d8b-bcb9-3bbab4be3ecb",
   "metadata": {},
   "outputs": [
    {
     "data": {
      "text/plain": [
       "(array([95218.50398549,  4675.30737485,   508.00417525,  1811.69049289]),\n",
       " array([108204.39414991,   5526.0073703 ,    593.78394229,   2005.44610671]))"
      ]
     },
     "execution_count": 9,
     "metadata": {},
     "output_type": "execute_result"
    }
   ],
   "source": [
    "sms.DescrStatsW(df_c).tconfint_mean()"
   ]
  },
  {
   "cell_type": "code",
   "execution_count": 10,
   "id": "a221773d-ae0f-4341-879d-a872c36c3153",
   "metadata": {},
   "outputs": [],
   "source": [
    "def correlation(df, purchase):\n",
    "    dropcol = df.drop(\"Purchase\", axis = 1).columns\n",
    "    for x in dropcol:\n",
    "        print(f\"{x} correlation with {\"Purchase\"}\")\n",
    "        print(df[\"Purchase\"].corr(df[x]))"
   ]
  },
  {
   "cell_type": "code",
   "execution_count": 11,
   "id": "cbe4cb4f-90f4-4530-b769-54972526f6d0",
   "metadata": {},
   "outputs": [
    {
     "name": "stdout",
     "output_type": "stream",
     "text": [
      "Impression correlation with Purchase\n",
      "0.13779572364901418\n",
      "Click correlation with Purchase\n",
      "-0.07441443787151679\n",
      "Earning correlation with Purchase\n",
      "0.10248095262969038\n",
      "Impression correlation with Purchase\n",
      "0.21457493332510497\n",
      "Click correlation with Purchase\n",
      "0.05739746000254058\n",
      "Earning correlation with Purchase\n",
      "0.061728454532799085\n"
     ]
    }
   ],
   "source": [
    "correlation(df_t, \"Purchase\")\n",
    "correlation(df_c, \"Purchase\")"
   ]
  },
  {
   "cell_type": "code",
   "execution_count": 12,
   "id": "1c909b6b-8296-4996-8c29-143f8b83595f",
   "metadata": {},
   "outputs": [
    {
     "data": {
      "text/html": [
       "<div>\n",
       "<style scoped>\n",
       "    .dataframe tbody tr th:only-of-type {\n",
       "        vertical-align: middle;\n",
       "    }\n",
       "\n",
       "    .dataframe tbody tr th {\n",
       "        vertical-align: top;\n",
       "    }\n",
       "\n",
       "    .dataframe thead th {\n",
       "        text-align: right;\n",
       "    }\n",
       "</style>\n",
       "<table border=\"1\" class=\"dataframe\">\n",
       "  <thead>\n",
       "    <tr style=\"text-align: right;\">\n",
       "      <th></th>\n",
       "      <th>Impression</th>\n",
       "      <th>Click</th>\n",
       "      <th>Purchase</th>\n",
       "      <th>Earning</th>\n",
       "      <th>Conversion_Rate</th>\n",
       "      <th>Earning_Per_Purchase</th>\n",
       "    </tr>\n",
       "  </thead>\n",
       "  <tbody>\n",
       "    <tr>\n",
       "      <th>0</th>\n",
       "      <td>120103.50380</td>\n",
       "      <td>3216.54796</td>\n",
       "      <td>702.16035</td>\n",
       "      <td>1939.61124</td>\n",
       "      <td>21.82962</td>\n",
       "      <td>276.23480</td>\n",
       "    </tr>\n",
       "    <tr>\n",
       "      <th>1</th>\n",
       "      <td>134775.94336</td>\n",
       "      <td>3635.08242</td>\n",
       "      <td>834.05429</td>\n",
       "      <td>2929.40582</td>\n",
       "      <td>22.94458</td>\n",
       "      <td>351.22484</td>\n",
       "    </tr>\n",
       "    <tr>\n",
       "      <th>2</th>\n",
       "      <td>107806.62079</td>\n",
       "      <td>3057.14356</td>\n",
       "      <td>422.93426</td>\n",
       "      <td>2526.24488</td>\n",
       "      <td>13.83429</td>\n",
       "      <td>597.31384</td>\n",
       "    </tr>\n",
       "    <tr>\n",
       "      <th>3</th>\n",
       "      <td>116445.27553</td>\n",
       "      <td>4650.47391</td>\n",
       "      <td>429.03353</td>\n",
       "      <td>2281.42857</td>\n",
       "      <td>9.22559</td>\n",
       "      <td>531.75997</td>\n",
       "    </tr>\n",
       "    <tr>\n",
       "      <th>4</th>\n",
       "      <td>145082.51684</td>\n",
       "      <td>5201.38772</td>\n",
       "      <td>749.86044</td>\n",
       "      <td>2781.69752</td>\n",
       "      <td>14.41655</td>\n",
       "      <td>370.96203</td>\n",
       "    </tr>\n",
       "  </tbody>\n",
       "</table>\n",
       "</div>"
      ],
      "text/plain": [
       "    Impression      Click  Purchase    Earning  Conversion_Rate  \\\n",
       "0 120103.50380 3216.54796 702.16035 1939.61124         21.82962   \n",
       "1 134775.94336 3635.08242 834.05429 2929.40582         22.94458   \n",
       "2 107806.62079 3057.14356 422.93426 2526.24488         13.83429   \n",
       "3 116445.27553 4650.47391 429.03353 2281.42857          9.22559   \n",
       "4 145082.51684 5201.38772 749.86044 2781.69752         14.41655   \n",
       "\n",
       "   Earning_Per_Purchase  \n",
       "0             276.23480  \n",
       "1             351.22484  \n",
       "2             597.31384  \n",
       "3             531.75997  \n",
       "4             370.96203  "
      ]
     },
     "execution_count": 12,
     "metadata": {},
     "output_type": "execute_result"
    }
   ],
   "source": [
    "df_c[\"Conversion_Rate\"] = (df_c[\"Purchase\"] / df_c[\"Click\"]) * 100\n",
    "df_t[\"Conversion_Rate\"] = (df_t[\"Purchase\"] / df_t[\"Click\"]) * 100\n",
    "\n",
    "df_c[\"Earning_Per_Purchase\"] = (df_c[\"Earning\"] / df_c[\"Purchase\"]) * 100\n",
    "df_t[\"Earning_Per_Purchase\"] = (df_t[\"Earning\"] / df_t[\"Purchase\"]) * 100\n",
    "\n",
    "\n",
    "df_t.head()"
   ]
  },
  {
   "cell_type": "code",
   "execution_count": 13,
   "id": "ab506b55-6dde-470f-a67c-6ec48afd4e9d",
   "metadata": {},
   "outputs": [
    {
     "data": {
      "text/html": [
       "<div>\n",
       "<style scoped>\n",
       "    .dataframe tbody tr th:only-of-type {\n",
       "        vertical-align: middle;\n",
       "    }\n",
       "\n",
       "    .dataframe tbody tr th {\n",
       "        vertical-align: top;\n",
       "    }\n",
       "\n",
       "    .dataframe thead th {\n",
       "        text-align: right;\n",
       "    }\n",
       "</style>\n",
       "<table border=\"1\" class=\"dataframe\">\n",
       "  <thead>\n",
       "    <tr style=\"text-align: right;\">\n",
       "      <th></th>\n",
       "      <th>Impression</th>\n",
       "      <th>Click</th>\n",
       "      <th>Purchase</th>\n",
       "      <th>Earning</th>\n",
       "      <th>Conversion_Rate</th>\n",
       "      <th>Earning_Per_Purchase</th>\n",
       "    </tr>\n",
       "  </thead>\n",
       "  <tbody>\n",
       "    <tr>\n",
       "      <th>0</th>\n",
       "      <td>82529.45927</td>\n",
       "      <td>6090.07732</td>\n",
       "      <td>665.21125</td>\n",
       "      <td>2311.27714</td>\n",
       "      <td>10.92287</td>\n",
       "      <td>347.45010</td>\n",
       "    </tr>\n",
       "    <tr>\n",
       "      <th>1</th>\n",
       "      <td>98050.45193</td>\n",
       "      <td>3382.86179</td>\n",
       "      <td>315.08489</td>\n",
       "      <td>1742.80686</td>\n",
       "      <td>9.31415</td>\n",
       "      <td>553.12295</td>\n",
       "    </tr>\n",
       "    <tr>\n",
       "      <th>2</th>\n",
       "      <td>82696.02355</td>\n",
       "      <td>4167.96575</td>\n",
       "      <td>458.08374</td>\n",
       "      <td>1797.82745</td>\n",
       "      <td>10.99058</td>\n",
       "      <td>392.46699</td>\n",
       "    </tr>\n",
       "    <tr>\n",
       "      <th>3</th>\n",
       "      <td>109914.40040</td>\n",
       "      <td>4910.88224</td>\n",
       "      <td>487.09077</td>\n",
       "      <td>1696.22918</td>\n",
       "      <td>9.91860</td>\n",
       "      <td>348.23677</td>\n",
       "    </tr>\n",
       "    <tr>\n",
       "      <th>4</th>\n",
       "      <td>108457.76263</td>\n",
       "      <td>5987.65581</td>\n",
       "      <td>441.03405</td>\n",
       "      <td>1543.72018</td>\n",
       "      <td>7.36572</td>\n",
       "      <td>350.02290</td>\n",
       "    </tr>\n",
       "  </tbody>\n",
       "</table>\n",
       "</div>"
      ],
      "text/plain": [
       "    Impression      Click  Purchase    Earning  Conversion_Rate  \\\n",
       "0  82529.45927 6090.07732 665.21125 2311.27714         10.92287   \n",
       "1  98050.45193 3382.86179 315.08489 1742.80686          9.31415   \n",
       "2  82696.02355 4167.96575 458.08374 1797.82745         10.99058   \n",
       "3 109914.40040 4910.88224 487.09077 1696.22918          9.91860   \n",
       "4 108457.76263 5987.65581 441.03405 1543.72018          7.36572   \n",
       "\n",
       "   Earning_Per_Purchase  \n",
       "0             347.45010  \n",
       "1             553.12295  \n",
       "2             392.46699  \n",
       "3             348.23677  \n",
       "4             350.02290  "
      ]
     },
     "execution_count": 13,
     "metadata": {},
     "output_type": "execute_result"
    }
   ],
   "source": [
    "df_c.head()"
   ]
  },
  {
   "cell_type": "code",
   "execution_count": null,
   "id": "e16d4cb6-24ed-478b-92e4-1f5bd181564b",
   "metadata": {},
   "outputs": [],
   "source": [
    "#1.3"
   ]
  },
  {
   "cell_type": "code",
   "execution_count": 14,
   "id": "fc9b0551-20b0-4cff-a656-5e44a19c5864",
   "metadata": {},
   "outputs": [
    {
     "data": {
      "text/html": [
       "<div>\n",
       "<style scoped>\n",
       "    .dataframe tbody tr th:only-of-type {\n",
       "        vertical-align: middle;\n",
       "    }\n",
       "\n",
       "    .dataframe tbody tr th {\n",
       "        vertical-align: top;\n",
       "    }\n",
       "\n",
       "    .dataframe thead th {\n",
       "        text-align: right;\n",
       "    }\n",
       "</style>\n",
       "<table border=\"1\" class=\"dataframe\">\n",
       "  <thead>\n",
       "    <tr style=\"text-align: right;\">\n",
       "      <th></th>\n",
       "      <th>Impression_test</th>\n",
       "      <th>Click_test</th>\n",
       "      <th>Purchase_test</th>\n",
       "      <th>Earning_test</th>\n",
       "      <th>Conversion_Rate_test</th>\n",
       "      <th>Earning_Per_Purchase_test</th>\n",
       "    </tr>\n",
       "  </thead>\n",
       "  <tbody>\n",
       "    <tr>\n",
       "      <th>0</th>\n",
       "      <td>120103.50380</td>\n",
       "      <td>3216.54796</td>\n",
       "      <td>702.16035</td>\n",
       "      <td>1939.61124</td>\n",
       "      <td>21.82962</td>\n",
       "      <td>276.23480</td>\n",
       "    </tr>\n",
       "    <tr>\n",
       "      <th>1</th>\n",
       "      <td>134775.94336</td>\n",
       "      <td>3635.08242</td>\n",
       "      <td>834.05429</td>\n",
       "      <td>2929.40582</td>\n",
       "      <td>22.94458</td>\n",
       "      <td>351.22484</td>\n",
       "    </tr>\n",
       "    <tr>\n",
       "      <th>2</th>\n",
       "      <td>107806.62079</td>\n",
       "      <td>3057.14356</td>\n",
       "      <td>422.93426</td>\n",
       "      <td>2526.24488</td>\n",
       "      <td>13.83429</td>\n",
       "      <td>597.31384</td>\n",
       "    </tr>\n",
       "    <tr>\n",
       "      <th>3</th>\n",
       "      <td>116445.27553</td>\n",
       "      <td>4650.47391</td>\n",
       "      <td>429.03353</td>\n",
       "      <td>2281.42857</td>\n",
       "      <td>9.22559</td>\n",
       "      <td>531.75997</td>\n",
       "    </tr>\n",
       "    <tr>\n",
       "      <th>4</th>\n",
       "      <td>145082.51684</td>\n",
       "      <td>5201.38772</td>\n",
       "      <td>749.86044</td>\n",
       "      <td>2781.69752</td>\n",
       "      <td>14.41655</td>\n",
       "      <td>370.96203</td>\n",
       "    </tr>\n",
       "  </tbody>\n",
       "</table>\n",
       "</div>"
      ],
      "text/plain": [
       "   Impression_test  Click_test  Purchase_test  Earning_test  \\\n",
       "0     120103.50380  3216.54796      702.16035    1939.61124   \n",
       "1     134775.94336  3635.08242      834.05429    2929.40582   \n",
       "2     107806.62079  3057.14356      422.93426    2526.24488   \n",
       "3     116445.27553  4650.47391      429.03353    2281.42857   \n",
       "4     145082.51684  5201.38772      749.86044    2781.69752   \n",
       "\n",
       "   Conversion_Rate_test  Earning_Per_Purchase_test  \n",
       "0              21.82962                  276.23480  \n",
       "1              22.94458                  351.22484  \n",
       "2              13.83429                  597.31384  \n",
       "3               9.22559                  531.75997  \n",
       "4              14.41655                  370.96203  "
      ]
     },
     "execution_count": 14,
     "metadata": {},
     "output_type": "execute_result"
    }
   ],
   "source": [
    "df_t.columns = [i+\"_test\" for i in df_t.columns]\n",
    "df_t.head()"
   ]
  },
  {
   "cell_type": "code",
   "execution_count": 15,
   "id": "873e7325-e8bb-4222-99da-62a3cce99e9c",
   "metadata": {},
   "outputs": [
    {
     "data": {
      "text/html": [
       "<div>\n",
       "<style scoped>\n",
       "    .dataframe tbody tr th:only-of-type {\n",
       "        vertical-align: middle;\n",
       "    }\n",
       "\n",
       "    .dataframe tbody tr th {\n",
       "        vertical-align: top;\n",
       "    }\n",
       "\n",
       "    .dataframe thead th {\n",
       "        text-align: right;\n",
       "    }\n",
       "</style>\n",
       "<table border=\"1\" class=\"dataframe\">\n",
       "  <thead>\n",
       "    <tr style=\"text-align: right;\">\n",
       "      <th></th>\n",
       "      <th>Impression_control</th>\n",
       "      <th>Click_control</th>\n",
       "      <th>Purchase_control</th>\n",
       "      <th>Earning_control</th>\n",
       "      <th>Conversion_Rate_control</th>\n",
       "      <th>Earning_Per_Purchase_control</th>\n",
       "    </tr>\n",
       "  </thead>\n",
       "  <tbody>\n",
       "    <tr>\n",
       "      <th>0</th>\n",
       "      <td>82529.45927</td>\n",
       "      <td>6090.07732</td>\n",
       "      <td>665.21125</td>\n",
       "      <td>2311.27714</td>\n",
       "      <td>10.92287</td>\n",
       "      <td>347.45010</td>\n",
       "    </tr>\n",
       "    <tr>\n",
       "      <th>1</th>\n",
       "      <td>98050.45193</td>\n",
       "      <td>3382.86179</td>\n",
       "      <td>315.08489</td>\n",
       "      <td>1742.80686</td>\n",
       "      <td>9.31415</td>\n",
       "      <td>553.12295</td>\n",
       "    </tr>\n",
       "    <tr>\n",
       "      <th>2</th>\n",
       "      <td>82696.02355</td>\n",
       "      <td>4167.96575</td>\n",
       "      <td>458.08374</td>\n",
       "      <td>1797.82745</td>\n",
       "      <td>10.99058</td>\n",
       "      <td>392.46699</td>\n",
       "    </tr>\n",
       "    <tr>\n",
       "      <th>3</th>\n",
       "      <td>109914.40040</td>\n",
       "      <td>4910.88224</td>\n",
       "      <td>487.09077</td>\n",
       "      <td>1696.22918</td>\n",
       "      <td>9.91860</td>\n",
       "      <td>348.23677</td>\n",
       "    </tr>\n",
       "    <tr>\n",
       "      <th>4</th>\n",
       "      <td>108457.76263</td>\n",
       "      <td>5987.65581</td>\n",
       "      <td>441.03405</td>\n",
       "      <td>1543.72018</td>\n",
       "      <td>7.36572</td>\n",
       "      <td>350.02290</td>\n",
       "    </tr>\n",
       "  </tbody>\n",
       "</table>\n",
       "</div>"
      ],
      "text/plain": [
       "   Impression_control  Click_control  Purchase_control  Earning_control  \\\n",
       "0         82529.45927     6090.07732         665.21125       2311.27714   \n",
       "1         98050.45193     3382.86179         315.08489       1742.80686   \n",
       "2         82696.02355     4167.96575         458.08374       1797.82745   \n",
       "3        109914.40040     4910.88224         487.09077       1696.22918   \n",
       "4        108457.76263     5987.65581         441.03405       1543.72018   \n",
       "\n",
       "   Conversion_Rate_control  Earning_Per_Purchase_control  \n",
       "0                 10.92287                     347.45010  \n",
       "1                  9.31415                     553.12295  \n",
       "2                 10.99058                     392.46699  \n",
       "3                  9.91860                     348.23677  \n",
       "4                  7.36572                     350.02290  "
      ]
     },
     "execution_count": 15,
     "metadata": {},
     "output_type": "execute_result"
    }
   ],
   "source": [
    "df_c.columns = [i+\"_control\" for i in df_c.columns]\n",
    "df_c.head()"
   ]
  },
  {
   "cell_type": "code",
   "execution_count": 16,
   "id": "f8d054ba-08ef-4f01-bed5-eacc43cafba3",
   "metadata": {},
   "outputs": [
    {
     "data": {
      "text/html": [
       "<div>\n",
       "<style scoped>\n",
       "    .dataframe tbody tr th:only-of-type {\n",
       "        vertical-align: middle;\n",
       "    }\n",
       "\n",
       "    .dataframe tbody tr th {\n",
       "        vertical-align: top;\n",
       "    }\n",
       "\n",
       "    .dataframe thead th {\n",
       "        text-align: right;\n",
       "    }\n",
       "</style>\n",
       "<table border=\"1\" class=\"dataframe\">\n",
       "  <thead>\n",
       "    <tr style=\"text-align: right;\">\n",
       "      <th></th>\n",
       "      <th>Impression_test</th>\n",
       "      <th>Click_test</th>\n",
       "      <th>Purchase_test</th>\n",
       "      <th>Earning_test</th>\n",
       "      <th>Conversion_Rate_test</th>\n",
       "      <th>Earning_Per_Purchase_test</th>\n",
       "      <th>Impression_control</th>\n",
       "      <th>Click_control</th>\n",
       "      <th>Purchase_control</th>\n",
       "      <th>Earning_control</th>\n",
       "      <th>Conversion_Rate_control</th>\n",
       "      <th>Earning_Per_Purchase_control</th>\n",
       "    </tr>\n",
       "  </thead>\n",
       "  <tbody>\n",
       "    <tr>\n",
       "      <th>0</th>\n",
       "      <td>120103.50380</td>\n",
       "      <td>3216.54796</td>\n",
       "      <td>702.16035</td>\n",
       "      <td>1939.61124</td>\n",
       "      <td>21.82962</td>\n",
       "      <td>276.23480</td>\n",
       "      <td>82529.45927</td>\n",
       "      <td>6090.07732</td>\n",
       "      <td>665.21125</td>\n",
       "      <td>2311.27714</td>\n",
       "      <td>10.92287</td>\n",
       "      <td>347.45010</td>\n",
       "    </tr>\n",
       "    <tr>\n",
       "      <th>1</th>\n",
       "      <td>134775.94336</td>\n",
       "      <td>3635.08242</td>\n",
       "      <td>834.05429</td>\n",
       "      <td>2929.40582</td>\n",
       "      <td>22.94458</td>\n",
       "      <td>351.22484</td>\n",
       "      <td>98050.45193</td>\n",
       "      <td>3382.86179</td>\n",
       "      <td>315.08489</td>\n",
       "      <td>1742.80686</td>\n",
       "      <td>9.31415</td>\n",
       "      <td>553.12295</td>\n",
       "    </tr>\n",
       "    <tr>\n",
       "      <th>2</th>\n",
       "      <td>107806.62079</td>\n",
       "      <td>3057.14356</td>\n",
       "      <td>422.93426</td>\n",
       "      <td>2526.24488</td>\n",
       "      <td>13.83429</td>\n",
       "      <td>597.31384</td>\n",
       "      <td>82696.02355</td>\n",
       "      <td>4167.96575</td>\n",
       "      <td>458.08374</td>\n",
       "      <td>1797.82745</td>\n",
       "      <td>10.99058</td>\n",
       "      <td>392.46699</td>\n",
       "    </tr>\n",
       "    <tr>\n",
       "      <th>3</th>\n",
       "      <td>116445.27553</td>\n",
       "      <td>4650.47391</td>\n",
       "      <td>429.03353</td>\n",
       "      <td>2281.42857</td>\n",
       "      <td>9.22559</td>\n",
       "      <td>531.75997</td>\n",
       "      <td>109914.40040</td>\n",
       "      <td>4910.88224</td>\n",
       "      <td>487.09077</td>\n",
       "      <td>1696.22918</td>\n",
       "      <td>9.91860</td>\n",
       "      <td>348.23677</td>\n",
       "    </tr>\n",
       "    <tr>\n",
       "      <th>4</th>\n",
       "      <td>145082.51684</td>\n",
       "      <td>5201.38772</td>\n",
       "      <td>749.86044</td>\n",
       "      <td>2781.69752</td>\n",
       "      <td>14.41655</td>\n",
       "      <td>370.96203</td>\n",
       "      <td>108457.76263</td>\n",
       "      <td>5987.65581</td>\n",
       "      <td>441.03405</td>\n",
       "      <td>1543.72018</td>\n",
       "      <td>7.36572</td>\n",
       "      <td>350.02290</td>\n",
       "    </tr>\n",
       "  </tbody>\n",
       "</table>\n",
       "</div>"
      ],
      "text/plain": [
       "   Impression_test  Click_test  Purchase_test  Earning_test  \\\n",
       "0     120103.50380  3216.54796      702.16035    1939.61124   \n",
       "1     134775.94336  3635.08242      834.05429    2929.40582   \n",
       "2     107806.62079  3057.14356      422.93426    2526.24488   \n",
       "3     116445.27553  4650.47391      429.03353    2281.42857   \n",
       "4     145082.51684  5201.38772      749.86044    2781.69752   \n",
       "\n",
       "   Conversion_Rate_test  Earning_Per_Purchase_test  Impression_control  \\\n",
       "0              21.82962                  276.23480         82529.45927   \n",
       "1              22.94458                  351.22484         98050.45193   \n",
       "2              13.83429                  597.31384         82696.02355   \n",
       "3               9.22559                  531.75997        109914.40040   \n",
       "4              14.41655                  370.96203        108457.76263   \n",
       "\n",
       "   Click_control  Purchase_control  Earning_control  Conversion_Rate_control  \\\n",
       "0     6090.07732         665.21125       2311.27714                 10.92287   \n",
       "1     3382.86179         315.08489       1742.80686                  9.31415   \n",
       "2     4167.96575         458.08374       1797.82745                 10.99058   \n",
       "3     4910.88224         487.09077       1696.22918                  9.91860   \n",
       "4     5987.65581         441.03405       1543.72018                  7.36572   \n",
       "\n",
       "   Earning_Per_Purchase_control  \n",
       "0                     347.45010  \n",
       "1                     553.12295  \n",
       "2                     392.46699  \n",
       "3                     348.23677  \n",
       "4                     350.02290  "
      ]
     },
     "execution_count": 16,
     "metadata": {},
     "output_type": "execute_result"
    }
   ],
   "source": [
    "t_c = pd.concat([df_t, df_c], axis=1)\n",
    "t_c.head()"
   ]
  },
  {
   "cell_type": "code",
   "execution_count": null,
   "id": "feadeb89-f263-416d-a401-176c83335bcd",
   "metadata": {},
   "outputs": [],
   "source": [
    "#2 Hypothesenformulierung für A/B-Tests"
   ]
  },
  {
   "cell_type": "code",
   "execution_count": null,
   "id": "75adf502-c107-4d0f-9e1c-36132671442b",
   "metadata": {},
   "outputs": [],
   "source": [
    "#2.1"
   ]
  },
  {
   "cell_type": "markdown",
   "id": "f9c08462-d980-4623-8534-2ea354811a1e",
   "metadata": {},
   "source": [
    "H0: m1=m2  (Es gibt keinen Unterschied zwischen den durchschnittlichen Käufen der Kontrollgruppe und der Testgruppe)\n",
    "\n",
    "H!: m1!=m2  (Es gibt einen Unterschied zwischen den durchschnittlichen Käufen der Kontrollgruppe und der Testgruppe)"
   ]
  },
  {
   "cell_type": "code",
   "execution_count": 17,
   "id": "58b38db6-822a-4505-a38c-71748789218f",
   "metadata": {},
   "outputs": [
    {
     "data": {
      "text/plain": [
       "Purchase_test      582.10610\n",
       "Purchase_control   550.89406\n",
       "dtype: float64"
      ]
     },
     "execution_count": 17,
     "metadata": {},
     "output_type": "execute_result"
    }
   ],
   "source": [
    "t_c[[\"Purchase_test\", \"Purchase_control\"]].mean()"
   ]
  },
  {
   "cell_type": "code",
   "execution_count": null,
   "id": "4c588927-8a78-4628-91d9-8b8adc6f8b27",
   "metadata": {},
   "outputs": [],
   "source": [
    "#3 Hypothesentests und Annahmekontrollen"
   ]
  },
  {
   "cell_type": "code",
   "execution_count": null,
   "id": "787bccdf-e9a7-4140-a456-383e309b876c",
   "metadata": {},
   "outputs": [],
   "source": [
    "#3.1.1.Normalitätstest"
   ]
  },
  {
   "cell_type": "code",
   "execution_count": 18,
   "id": "ccb008d5-9695-4dee-85a7-456064a764ba",
   "metadata": {},
   "outputs": [
    {
     "name": "stdout",
     "output_type": "stream",
     "text": [
      "Test Stat = 0.9589, p-value = 0.1541\n"
     ]
    }
   ],
   "source": [
    "test_stat, pvalue = shapiro(t_c[\"Purchase_test\"])\n",
    "print('Test Stat = %.4f, p-value = %.4f' % (test_stat, pvalue))"
   ]
  },
  {
   "cell_type": "code",
   "execution_count": 19,
   "id": "771bc3c9-c6cf-4af6-ba0a-512eb793b48f",
   "metadata": {},
   "outputs": [],
   "source": [
    "import statsmodels.api as sm\n",
    "import matplotlib.pyplot as plt"
   ]
  },
  {
   "cell_type": "code",
   "execution_count": 20,
   "id": "b535a4eb-6ccf-4358-9045-0c3d5ba80b78",
   "metadata": {},
   "outputs": [
    {
     "data": {
      "image/png": "[encoded data removed]",
      "text/plain": [
       "<Figure size 640x480 with 1 Axes>"
      ]
     },
     "metadata": {},
     "output_type": "display_data"
    }
   ],
   "source": [
    "sm.qqplot(t_c['Purchase_test'], line='s')\n",
    "plt.title(\"Purchase_test\")\n",
    "plt.show()\n"
   ]
  },
  {
   "cell_type": "code",
   "execution_count": 21,
   "id": "2ad768fe-e71a-42df-aba7-d732f4e284db",
   "metadata": {},
   "outputs": [
    {
     "name": "stdout",
     "output_type": "stream",
     "text": [
      "Test Stat = 0.9773, p-value = 0.5891\n"
     ]
    }
   ],
   "source": [
    "test_stat, pvalue = shapiro(t_c[\"Purchase_control\"])\n",
    "print('Test Stat = %.4f, p-value = %.4f' % (test_stat, pvalue))"
   ]
  },
  {
   "cell_type": "code",
   "execution_count": 22,
   "id": "1cdd5d9d-54ed-42d7-a8e7-58184a2778e3",
   "metadata": {},
   "outputs": [
    {
     "data": {
      "image/png": "[encoded data removed]",
      "text/plain": [
       "<Figure size 640x480 with 1 Axes>"
      ]
     },
     "metadata": {},
     "output_type": "display_data"
    }
   ],
   "source": [
    "sm.qqplot(t_c['Purchase_control'], line='s')\n",
    "plt.title(\"Purchase_control\")\n",
    "plt.show()"
   ]
  },
  {
   "cell_type": "code",
   "execution_count": 23,
   "id": "2418d5e7-71f7-4d72-b9a5-587b007ebdf8",
   "metadata": {},
   "outputs": [],
   "source": [
    "t_c = t_c.dropna(subset=[\"Purchase_test\", \"Purchase_control\"])\n"
   ]
  },
  {
   "cell_type": "code",
   "execution_count": 24,
   "id": "85adfc3f-b6b9-4c19-8287-104cda55a2d9",
   "metadata": {},
   "outputs": [
    {
     "name": "stderr",
     "output_type": "stream",
     "text": [
      "C:\\Users\\User Laptop\\AppData\\Local\\Temp\\ipykernel_16952\\1017858778.py:1: MatplotlibDeprecationWarning: The 'labels' parameter of boxplot() has been renamed 'tick_labels' since Matplotlib 3.9; support for the old name will be dropped in 3.11.\n",
      "  plt.boxplot([t_c[\"Purchase_test\"], t_c[\"Purchase_control\"]], labels=[\"Test\", \"Control\"])\n"
     ]
    },
    {
     "data": {
      "image/png": "[encoded data removed]",
      "text/plain": [
       "<Figure size 640x480 with 1 Axes>"
      ]
     },
     "metadata": {},
     "output_type": "display_data"
    }
   ],
   "source": [
    "plt.boxplot([t_c[\"Purchase_test\"], t_c[\"Purchase_control\"]], labels=[\"Test\", \"Control\"])\n",
    "plt.show()\n"
   ]
  },
  {
   "cell_type": "code",
   "execution_count": null,
   "id": "62e14565-41b4-48d8-bc00-554cf6257153",
   "metadata": {},
   "outputs": [],
   "source": [
    "#3.1.2.Test auf Varianzhomogenität"
   ]
  },
  {
   "cell_type": "code",
   "execution_count": 25,
   "id": "8a846aad-d63a-4c67-8436-6c9be9ef850a",
   "metadata": {},
   "outputs": [
    {
     "name": "stdout",
     "output_type": "stream",
     "text": [
      "Test stat = 2.6393, p-value = 0.1083\n"
     ]
    }
   ],
   "source": [
    "test_stat, pvalue = levene(t_c[\"Purchase_control\"],\n",
    "                           t_c[\"Purchase_test\"])\n",
    "print(\"Test stat = %.4f, p-value = %.4f\" % (test_stat, pvalue))"
   ]
  },
  {
   "cell_type": "code",
   "execution_count": null,
   "id": "f734fa98-50ce-4c62-9c7b-ef66c3e934c2",
   "metadata": {},
   "outputs": [],
   "source": [
    "#3.2"
   ]
  },
  {
   "cell_type": "markdown",
   "id": "06ae274a-035b-4a2a-8248-3ecaf7aa36d5",
   "metadata": {},
   "source": [
    "Da beide Annahmen erfüllt sind, wählen wir den parametrischen Test: \" Independent Sample T Test\""
   ]
  },
  {
   "cell_type": "code",
   "execution_count": null,
   "id": "c5fa41fd-dfc2-4c7b-8065-12c549c48dfc",
   "metadata": {},
   "outputs": [],
   "source": [
    "#3.3."
   ]
  },
  {
   "cell_type": "code",
   "execution_count": 26,
   "id": "9ac804a4-d43d-451b-95dc-4ae3f94d39a2",
   "metadata": {},
   "outputs": [
    {
     "name": "stdout",
     "output_type": "stream",
     "text": [
      "Test stat = -0.9416, p-value = 0.3493\n"
     ]
    }
   ],
   "source": [
    "test_stat, pvalue = ttest_ind(t_c[\"Purchase_control\"],\n",
    "                              t_c[\"Purchase_test\"],\n",
    "                              equal_var=True)\n",
    "print(\"Test stat = %.4f, p-value = %.4f\" % (test_stat, pvalue))"
   ]
  },
  {
   "cell_type": "markdown",
   "id": "14b0a662-23cc-4d60-b468-212847f09c31",
   "metadata": {},
   "source": [
    "Da der p-Wert größer als 0,05 ist (0.34 > 0.05), können wir die Nullhypothese nicht ablehnen.\n",
    "Das heißt, dass es keinen statistisch signifikanten Unterschied zwischen \n",
    "den Mittelwerten der Gruppen „purchase-control“ und „purchase-test“ gibt.\n",
    "\n",
    "Basierend auf den Analyseergebnissen gibt es keinen statistisch signifikanten Unterschied zwischen der 'maximum bidding'- und der 'average bidding'-Methode in Bezug auf die Kaufvariable (Purchase).\n",
    "\n",
    "Der Unterschied zwischen den Durchschnittswerten der beiden Gruppen ist  zufällig.\n",
    "\n"
   ]
  }
 ],
 "metadata": {
  "kernelspec": {
   "display_name": "Python 3 (ipykernel)",
   "language": "python",
   "name": "python3"
  },
  "language_info": {
   "codemirror_mode": {
    "name": "ipython",
    "version": 3
   },
   "file_extension": ".py",
   "mimetype": "text/x-python",
   "name": "python",
   "nbconvert_exporter": "python",
   "pygments_lexer": "ipython3",
   "version": "3.12.7"
  }
 },
 "nbformat": 4,
 "nbformat_minor": 5
}
